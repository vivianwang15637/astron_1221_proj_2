{
 "cells": [
  {
   "cell_type": "markdown",
   "id": "13fcea22",
   "metadata": {},
   "source": [
    "**PROJECT 2 ASTRO1221**\n",
    "--\n",
    "---\n",
    "---"
   ]
  },
  {
   "cell_type": "markdown",
   "id": "b7835aa4",
   "metadata": {},
   "source": [
    "**Project Setup, Dependencies, and Data Acquisition**\n",
    "--\n",
    "\n",
    "---"
   ]
  },
  {
   "cell_type": "markdown",
   "id": "c7d1bf89",
   "metadata": {},
   "source": [
    "**Installation of Dependencies**"
   ]
  },
  {
   "cell_type": "markdown",
   "id": "3ca32b85",
   "metadata": {},
   "source": [
    "The core libraries for this project are pandas, skyfield, astropy, matplotlib, and requests (for downloading the TLE data)."
   ]
  },
  {
   "cell_type": "code",
   "execution_count": null,
   "id": "6b90393a",
   "metadata": {
    "vscode": {
     "languageId": "plaintext"
    }
   },
   "outputs": [],
   "source": [
    "# Install necessary libraries if not already present\n",
    "!pip install pandas numpy matplotlib skyfield astropy requests\n",
    "\n",
    "# Standard imports\n",
    "import pandas as pd\n",
    "import numpy as np\n",
    "import requests\n",
    "import matplotlib.pyplot as plt\n",
    "\n",
    "# Skyfield imports\n",
    "from skyfield.api import load, EarthSatellite, Topos\n",
    "\n",
    "# Astropy imports\n",
    "from astropy.coordinates import SkyCoord, EarthLocation\n",
    "from astropy import units as u\n",
    "from astropy.time import Time"
   ]
  },
  {
   "cell_type": "markdown",
   "id": "3b51716a",
   "metadata": {},
   "source": [
    "**Define Location and Time Scale**"
   ]
  },
  {
   "cell_type": "markdown",
   "id": "b0d7e262",
   "metadata": {},
   "source": [
    "We define the observing location and load the necessary astronomical data files (almanac and timescale) needed by Skyfield."
   ]
  },
  {
   "cell_type": "code",
   "execution_count": null,
   "id": "092dcb7d",
   "metadata": {
    "vscode": {
     "languageId": "plaintext"
    }
   },
   "outputs": [],
   "source": [
    "# code to define location and time scale"
   ]
  },
  {
   "cell_type": "markdown",
   "id": "24807de1",
   "metadata": {},
   "source": [
    "**Acquire TLE Data for the ISS**"
   ]
  },
  {
   "cell_type": "markdown",
   "id": "ba71e7f0",
   "metadata": {},
   "source": [
    "We download the current Two-Line Elements (TLE) data for the International Space Station (ISS) directly from Celestrak."
   ]
  },
  {
   "cell_type": "code",
   "execution_count": null,
   "id": "101c0cac",
   "metadata": {
    "vscode": {
     "languageId": "plaintext"
    }
   },
   "outputs": [],
   "source": []
  },
  {
   "cell_type": "markdown",
   "id": "00d27a7c",
   "metadata": {},
   "source": [
    "**Core Prediction Pipeline and Data Wrangling**\n",
    "--\n",
    "\n",
    "This section implements the Skyfield pass calculation and structures the output into the required Pandas DataFrame.\n",
    "\n",
    "---"
   ]
  },
  {
   "cell_type": "markdown",
   "id": "50973fa2",
   "metadata": {},
   "source": [
    "**Function to Calculate Visible Passes**\n",
    "\n",
    "This function finds all visible passes of the ISS over the defined time window and location."
   ]
  },
  {
   "cell_type": "code",
   "execution_count": null,
   "id": "813123d5",
   "metadata": {
    "vscode": {
     "languageId": "plaintext"
    }
   },
   "outputs": [],
   "source": []
  },
  {
   "cell_type": "markdown",
   "id": "a460e18d",
   "metadata": {},
   "source": [
    "**Astropy Integration & Logging System**\n",
    "--\n",
    "This section introduces Astropy for coordinate calculation and sets up the observation log.\n",
    "\n",
    "---"
   ]
  },
  {
   "cell_type": "markdown",
   "id": "efa01f58",
   "metadata": {},
   "source": [
    "**Feature: Constellation Crossing (Astropy)**\n",
    "\n",
    "We define a function to find which constellation the ISS is in at its maximum altitude, using Astropy's coordinate tools."
   ]
  },
  {
   "cell_type": "code",
   "execution_count": null,
   "id": "7f68d01a",
   "metadata": {
    "vscode": {
     "languageId": "plaintext"
    }
   },
   "outputs": [],
   "source": []
  },
  {
   "cell_type": "markdown",
   "id": "31c3a720",
   "metadata": {},
   "source": [
    "**Observation Log and Merge**\n",
    "\n",
    "We define the structure of the observation log (observations.csv), create a dummy dataset, and merge it with the predictions."
   ]
  },
  {
   "cell_type": "code",
   "execution_count": null,
   "id": "43c54817",
   "metadata": {
    "vscode": {
     "languageId": "plaintext"
    }
   },
   "outputs": [],
   "source": []
  },
  {
   "cell_type": "markdown",
   "id": "59a1effc",
   "metadata": {},
   "source": [
    "**Analysis, Visualization, and Conclusion**\n",
    "--\n",
    "This section fulfills the analysis, visualization, and persistence requirements.\n",
    "\n",
    "---"
   ]
  },
  {
   "cell_type": "markdown",
   "id": "29149d20",
   "metadata": {},
   "source": [
    "**Analysis: Pass Frequency per Day**\n",
    "\n",
    "We analyze the frequency of passes over the next 7 days, which is a key requirement."
   ]
  },
  {
   "cell_type": "code",
   "execution_count": null,
   "id": "a4e717fa",
   "metadata": {
    "vscode": {
     "languageId": "plaintext"
    }
   },
   "outputs": [],
   "source": []
  },
  {
   "cell_type": "markdown",
   "id": "f2454374",
   "metadata": {},
   "source": [
    "**Visualization: Pass Frequencies (Bar Chart)**\n",
    "\n",
    "A bar chart visualizing the number of passes per day."
   ]
  },
  {
   "cell_type": "code",
   "execution_count": null,
   "id": "33d6008c",
   "metadata": {},
   "outputs": [],
   "source": []
  },
  {
   "cell_type": "markdown",
   "id": "aea62bed",
   "metadata": {},
   "source": [
    "**Visualization: Observation Success Rate**\n",
    "\n",
    "A pie chart showing the success rate of the recorded observations."
   ]
  },
  {
   "cell_type": "code",
   "execution_count": null,
   "id": "d488e145",
   "metadata": {},
   "outputs": [],
   "source": []
  },
  {
   "cell_type": "markdown",
   "id": "6138a36b",
   "metadata": {},
   "source": [
    "**Persistence: Save Predictions and Full Data**\n",
    "\n",
    "Save the full dataset to a new CSV file to meet the persistence requirement."
   ]
  },
  {
   "cell_type": "code",
   "execution_count": null,
   "id": "222f16de",
   "metadata": {},
   "outputs": [],
   "source": []
  },
  {
   "cell_type": "markdown",
   "id": "1150df88",
   "metadata": {},
   "source": [
    "**Conclusion and Individual Contribution**\n",
    "--\n",
    "\n",
    "---"
   ]
  },
  {
   "cell_type": "markdown",
   "id": "64038436",
   "metadata": {},
   "source": [
    "**Discussion and Interpretation**"
   ]
  },
  {
   "cell_type": "markdown",
   "id": "f7b7784b",
   "metadata": {},
   "source": [
    "**Individual Contribution Statement**"
   ]
  }
 ],
 "metadata": {
  "kernelspec": {
   "display_name": "Python (astron_1221)",
   "language": "python",
   "name": "astron_1221"
  },
  "language_info": {
   "codemirror_mode": {
    "name": "ipython",
    "version": 3
   },
   "file_extension": ".py",
   "mimetype": "text/x-python",
   "name": "python",
   "nbconvert_exporter": "python",
   "pygments_lexer": "ipython3",
   "version": "3.11.13"
  }
 },
 "nbformat": 4,
 "nbformat_minor": 5
}
