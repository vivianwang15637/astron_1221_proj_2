{
 "cells": [
  {
   "cell_type": "markdown",
   "id": "13fcea22",
   "metadata": {},
   "source": [
    "# Project 2: ISS Pass Predictor & Logger\n",
    "\n",
    "---\n",
    "\n",
    "**Project Overview**\n",
    "--\n",
    "\n",
    "This project creates a personalized International Space Station (ISS) visibility tracker that predicts when the station passes overhead and maintains a historical log of observations. We'll use Skyfield for satellite predictions while building a Pandas-based database to track and analyze pass patterns over time.\n",
    "\n",
    "**Key Features:**\n",
    "- Download ISS TLE (Two-Line Element) data from Celestrak\n",
    "- Predict visible passes for the next 7 days using Skyfield\n",
    "- Store predictions in structured DataFrames\n",
    "- Log actual observations with weather and viewing success data\n",
    "- Analyze patterns using Pandas groupby operations\n",
    "- Visualize pass frequencies and observation success rates\n",
    "- Persist data to CSV files for cross-session continuity\n",
    "\n",
    "**Astronomy Context:**\n",
    "The International Space Station orbits Earth every ~90 minutes. A \"pass\" occurs when it flies overhead and becomes visible - appearing as a bright moving star. TLE data contains orbital parameters that enable software to predict satellite positions. Altitude refers to height above the horizon in degrees (0° = horizon, 90° = directly overhead). Passes above ~30° altitude are easiest to observe.\n",
    "\n",
    "---\n",
    "\n",
    "### Methodology\n",
    "\n",
    "**Pathway B: Pandas + Astropy + Skyfield**\n",
    "- **Skyfield**: Satellite orbit calculations and pass predictions\n",
    "- **Pandas**: Data manipulation, filtering, and analysis\n",
    "- **Astropy**: Astronomical coordinate transformations and constellation identification\n",
    "- **Matplotlib**: Data visualization and plotting\n",
    "\n",
    "**Data Pipeline:**\n",
    "1. Acquire current ISS TLE data from Celestrak\n",
    "2. Calculate visible passes for user location\n",
    "3. Structure predictions in DataFrame format\n",
    "4. Log observations with metadata\n",
    "5. Merge predictions with observations\n",
    "6. Analyze patterns and generate visualizations\n",
    "7. Persist data for future sessions"
   ]
  },
  {
   "cell_type": "markdown",
   "id": "b7835aa4",
   "metadata": {},
   "source": [
    "## 1. Project Setup, Dependencies, and Data Acquisition\n",
    "\n",
    "This section establishes the foundation for our ISS tracking system by:\n",
    "- Installing required dependencies\n",
    "- Importing necessary libraries\n",
    "- Configuring the observing location\n",
    "- Acquiring current ISS orbital data\n",
    "- Setting up data structures for predictions and observations\n",
    "\n",
    "Let's begin by ensuring all required packages are available and properly imported."
   ]
  },
  {
   "cell_type": "markdown",
   "id": "c7d1bf89",
   "metadata": {},
   "source": [
    "### 1.1 Dependency Installation\n",
    "\n",
    "We need several specialized libraries for this project:\n",
    "\n",
    "- **pandas**: Data manipulation and analysis (core requirement)\n",
    "- **numpy**: Numerical computing foundation\n",
    "- **matplotlib**: Data visualization and plotting\n",
    "- **skyfield**: Satellite orbit calculations and pass predictions\n",
    "- **astropy**: Astronomical coordinate transformations\n",
    "- **requests**: HTTP requests for downloading TLE data\n",
    "\n",
    "**Note**: Skyfield will automatically download ephemeris data (~10MB) on first use, which is normal and expected."
   ]
  },
  {
   "cell_type": "code",
   "execution_count": null,
   "id": "6b90393a",
   "metadata": {
    "vscode": {
     "languageId": "plaintext"
    }
   },
   "outputs": [],
   "source": [
    "# Install necessary libraries if not already present\n",
    "!pip install pandas numpy matplotlib skyfield astropy requests\n",
    "\n",
    "# Standard imports\n",
    "import pandas as pd\n",
    "import numpy as np\n",
    "import requests\n",
    "import matplotlib.pyplot as plt\n",
    "\n",
    "# Skyfield imports\n",
    "from skyfield.api import load, EarthSatellite, Topos\n",
    "\n",
    "# Astropy imports\n",
    "from astropy.coordinates import SkyCoord, EarthLocation\n",
    "from astropy import units as u\n",
    "from astropy.time import Time"
   ]
  },
  {
   "cell_type": "markdown",
   "id": "b0d7e262",
   "metadata": {},
   "source": [
    "### 1.3 Define Observing Location and Time Scale\n",
    "\n",
    "We need to define our observing location and load the necessary astronomical data files. For this project, we'll use Columbus, Ohio as our default location, but you can easily change the coordinates to your own location.\n",
    "\n",
    "**Key Components:**\n",
    "- **Observer Location**: Latitude, longitude, and elevation\n",
    "- **Skyfield Timescale**: For accurate time calculations\n",
    "- **Ephemeris Data**: For precise satellite position calculations"
   ]
  },
  {
   "cell_type": "code",
   "execution_count": null,
   "id": "092dcb7d",
   "metadata": {},
   "outputs": [],
   "source": [
    "# Define observing location (Columbus, Ohio)\n",
    "# You can change these coordinates to your own location\n",
    "latitude = 39.9612    # North latitude in degrees\n",
    "longitude = -82.9988  # West longitude in degrees (negative for western hemisphere)\n",
    "elevation = 275        # Elevation above sea level in meters\n",
    "\n",
    "print(f\"Observing Location:\")\n",
    "print(f\"Latitude: {latitude}° N\")\n",
    "print(f\"Longitude: {longitude}° W\")\n",
    "print(f\"Elevation: {elevation} m\")\n",
    "\n",
    "# Create Skyfield observer location\n",
    "observer = Topos(latitude, longitude, elevation_m=elevation)\n",
    "print(f\"✓ Observer location created successfully\")\n",
    "\n",
    "# Load Skyfield timescale (this downloads ephemeris data on first run)\n",
    "print(\"Loading Skyfield timescale...\")\n",
    "ts = load.timescale()\n",
    "print(\"✓ Timescale loaded successfully\")\n",
    "\n",
    "# Load ephemeris data for precise calculations\n",
    "print(\"Loading ephemeris data...\")\n",
    "eph = load('de421.bsp')  # This downloads ~10MB of data on first run\n",
    "print(\"✓ Ephemeris data loaded successfully\")\n",
    "\n",
    "print(\"\\n\" + \"=\"*50)\n",
    "print(\"Location and time scale setup complete!\")\n",
    "print(\"=\"*50)"
   ]
  },
  {
   "cell_type": "markdown",
   "id": "24807de1",
   "metadata": {},
   "source": [
    "### 1.4 Acquire TLE Data for the ISS\n",
    "\n",
    "TLE (Two-Line Element) data contains the orbital parameters needed to predict satellite positions. We'll download the current ISS TLE data directly from Celestrak, which provides real-time satellite tracking data.\n",
    "\n",
    "**What is TLE Data?**\n",
    "- Contains orbital elements for satellite position prediction\n",
    "- Updated regularly to maintain accuracy\n",
    "- Format: Two lines of text with specific orbital parameters\n",
    "- ISS NORAD ID: 25544"
   ]
  },
  {
   "cell_type": "code",
   "execution_count": null,
   "id": "ba71e7f0",
   "metadata": {},
   "outputs": [],
   "source": [
    "# Download ISS TLE data from Celestrak\n",
    "print(\"Downloading ISS TLE data from Celestrak...\")\n",
    "\n",
    "# Celestrak URL for ISS TLE data\n",
    "tle_url = \"https://celestrak.org/NORAD/elements/stations.txt\"\n",
    "\n",
    "try:\n",
    "    # Download the TLE data\n",
    "    response = requests.get(tle_url)\n",
    "    response.raise_for_status()  # Raise an exception for bad status codes\n",
    "    \n",
    "    # Parse the TLE data\n",
    "    tle_lines = response.text.strip().split('\\n')\n",
    "    \n",
    "    # Find ISS data (NORAD ID 25544)\n",
    "    iss_tle = None\n",
    "    for i, line in enumerate(tle_lines):\n",
    "        if 'ISS' in line or '25544' in line:\n",
    "            # ISS TLE data is typically 3 lines: name, line 1, line 2\n",
    "            if i + 2 < len(tle_lines):\n",
    "                iss_tle = tle_lines[i:i+3]\n",
    "                break\n",
    "    \n",
    "    if iss_tle:\n",
    "        print(\"✓ ISS TLE data downloaded successfully\")\n",
    "        print(f\"ISS Name: {iss_tle[0].strip()}\")\n",
    "        print(f\"TLE Line 1: {iss_tle[1].strip()}\")\n",
    "        print(f\"TLE Line 2: {iss_tle[2].strip()}\")\n",
    "        \n",
    "        # Create Skyfield satellite object\n",
    "        satellite = EarthSatellite(iss_tle[1], iss_tle[2], iss_tle[0], ts)\n",
    "        print(\"✓ ISS satellite object created successfully\")\n",
    "        \n",
    "    else:\n",
    "        print(\"✗ ISS TLE data not found in downloaded file\")\n",
    "        \n",
    "except requests.exceptions.RequestException as e:\n",
    "    print(f\"✗ Error downloading TLE data: {e}\")\n",
    "    print(\"Using fallback TLE data...\")\n",
    "    \n",
    "    # Fallback TLE data (may be outdated but allows testing)\n",
    "    fallback_tle = [\n",
    "        \"ISS (ZARYA)\",\n",
    "        \"1 25544U 98067A   24123.12345678  .00001234  00000-0  12345-4 0  9999\",\n",
    "        \"2 25544  51.6400 123.4567 0001234 123.4567 234.5678 15.12345678901234\"\n",
    "    ]\n",
    "    \n",
    "    satellite = EarthSatellite(fallback_tle[1], fallback_tle[2], fallback_tle[0], ts)\n",
    "    print(\"✓ Fallback satellite object created\")\n",
    "\n",
    "print(\"\\n\" + \"=\"*50)\n",
    "print(\"TLE data acquisition complete!\")\n",
    "print(\"=\"*50)"
   ]
  },
  {
   "cell_type": "markdown",
   "id": "00d27a7c",
   "metadata": {},
   "source": [
    "**Core Prediction Pipeline and Data Wrangling**\n",
    "--\n",
    "\n",
    "This section implements the Skyfield pass calculation and structures the output into the required Pandas DataFrame.\n",
    "\n",
    "---"
   ]
  },
  {
   "cell_type": "markdown",
   "id": "50973fa2",
   "metadata": {},
   "source": [
    "**Function to Calculate Visible Passes**\n",
    "\n",
    "This function finds all visible passes of the ISS over the defined time window and location."
   ]
  },
  {
   "cell_type": "code",
   "execution_count": null,
   "id": "813123d5",
   "metadata": {
    "vscode": {
     "languageId": "plaintext"
    }
   },
   "outputs": [],
   "source": []
  },
  {
   "cell_type": "markdown",
   "id": "a460e18d",
   "metadata": {},
   "source": [
    "**Astropy Integration & Logging System**\n",
    "--\n",
    "This section introduces Astropy for coordinate calculation and sets up the observation log.\n",
    "\n",
    "---"
   ]
  },
  {
   "cell_type": "markdown",
   "id": "efa01f58",
   "metadata": {},
   "source": [
    "**Feature: Constellation Crossing (Astropy)**\n",
    "\n",
    "We define a function to find which constellation the ISS is in at its maximum altitude, using Astropy's coordinate tools."
   ]
  },
  {
   "cell_type": "code",
   "execution_count": null,
   "id": "7f68d01a",
   "metadata": {
    "vscode": {
     "languageId": "plaintext"
    }
   },
   "outputs": [],
   "source": []
  },
  {
   "cell_type": "markdown",
   "id": "31c3a720",
   "metadata": {},
   "source": [
    "**Observation Log and Merge**\n",
    "\n",
    "We define the structure of the observation log (observations.csv), create a dummy dataset, and merge it with the predictions."
   ]
  },
  {
   "cell_type": "code",
   "execution_count": null,
   "id": "43c54817",
   "metadata": {
    "vscode": {
     "languageId": "plaintext"
    }
   },
   "outputs": [],
   "source": []
  },
  {
   "cell_type": "markdown",
   "id": "59a1effc",
   "metadata": {},
   "source": [
    "**Analysis, Visualization, and Conclusion**\n",
    "--\n",
    "This section fulfills the analysis, visualization, and persistence requirements.\n",
    "\n",
    "---"
   ]
  },
  {
   "cell_type": "markdown",
   "id": "29149d20",
   "metadata": {},
   "source": [
    "**Analysis: Pass Frequency per Day**\n",
    "\n",
    "We analyze the frequency of passes over the next 7 days, which is a key requirement."
   ]
  },
  {
   "cell_type": "code",
   "execution_count": null,
   "id": "a4e717fa",
   "metadata": {
    "vscode": {
     "languageId": "plaintext"
    }
   },
   "outputs": [],
   "source": []
  },
  {
   "cell_type": "markdown",
   "id": "f2454374",
   "metadata": {},
   "source": [
    "**Visualization: Pass Frequencies (Bar Chart)**\n",
    "\n",
    "A bar chart visualizing the number of passes per day."
   ]
  },
  {
   "cell_type": "code",
   "execution_count": null,
   "id": "33d6008c",
   "metadata": {},
   "outputs": [],
   "source": []
  },
  {
   "cell_type": "markdown",
   "id": "aea62bed",
   "metadata": {},
   "source": [
    "**Visualization: Observation Success Rate**\n",
    "\n",
    "A pie chart showing the success rate of the recorded observations."
   ]
  },
  {
   "cell_type": "code",
   "execution_count": null,
   "id": "d488e145",
   "metadata": {},
   "outputs": [],
   "source": []
  },
  {
   "cell_type": "markdown",
   "id": "6138a36b",
   "metadata": {},
   "source": [
    "**Persistence: Save Predictions and Full Data**\n",
    "\n",
    "Save the full dataset to a new CSV file to meet the persistence requirement."
   ]
  },
  {
   "cell_type": "code",
   "execution_count": null,
   "id": "222f16de",
   "metadata": {},
   "outputs": [],
   "source": []
  },
  {
   "cell_type": "markdown",
   "id": "1150df88",
   "metadata": {},
   "source": [
    "**Conclusion and Individual Contribution**\n",
    "--\n",
    "\n",
    "---"
   ]
  },
  {
   "cell_type": "markdown",
   "id": "64038436",
   "metadata": {},
   "source": [
    "**Discussion and Interpretation**"
   ]
  },
  {
   "cell_type": "markdown",
   "id": "f7b7784b",
   "metadata": {},
   "source": [
    "**Individual Contribution Statement**"
   ]
  }
 ],
 "metadata": {
  "kernelspec": {
   "display_name": "Python (astron_1221)",
   "language": "python",
   "name": "astron_1221"
  },
  "language_info": {
   "codemirror_mode": {
    "name": "ipython",
    "version": 3
   },
   "file_extension": ".py",
   "mimetype": "text/x-python",
   "name": "python",
   "nbconvert_exporter": "python",
   "pygments_lexer": "ipython3",
   "version": "3.11.13"
  }
 },
 "nbformat": 4,
 "nbformat_minor": 5
}
