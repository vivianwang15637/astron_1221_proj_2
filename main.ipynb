{
 "cells": [
  {
   "cell_type": "markdown",
   "id": "13fcea22",
   "metadata": {},
   "source": [
    "# Project 2: ISS Pass Predictor & Logger\n",
    "\n",
    "---\n",
    "\n",
    "**Project Overview**\n",
    "--\n",
    "\n",
    "This project creates a personalized International Space Station (ISS) visibility tracker that predicts when the station passes overhead and maintains a historical log of observations. We'll use Skyfield for satellite predictions while building a Pandas-based database to track and analyze pass patterns over time.\n",
    "\n",
    "**Key Features:**\n",
    "- Download ISS TLE (Two-Line Element) data from Celestrak\n",
    "- Predict visible passes for the next 7 days using Skyfield\n",
    "- Store predictions in structured DataFrames\n",
    "- Log actual observations with weather and viewing success data\n",
    "- Analyze patterns using Pandas groupby operations\n",
    "- Visualize pass frequencies and observation success rates\n",
    "- Persist data to CSV files for cross-session continuity\n",
    "\n",
    "**Astronomy Context:**\n",
    "The International Space Station orbits Earth every ~90 minutes. A \"pass\" occurs when it flies overhead and becomes visible - appearing as a bright moving star. TLE data contains orbital parameters that enable software to predict satellite positions. Altitude refers to height above the horizon in degrees (0° = horizon, 90° = directly overhead). Passes above ~30° altitude are easiest to observe.\n",
    "\n",
    "---\n",
    "\n",
    "### Methodology\n",
    "\n",
    "**Pathway B: Pandas + Astropy + Skyfield**\n",
    "- **Skyfield**: Satellite orbit calculations and pass predictions\n",
    "- **Pandas**: Data manipulation, filtering, and analysis\n",
    "- **Astropy**: Astronomical coordinate transformations and constellation identification\n",
    "- **Matplotlib**: Data visualization and plotting\n",
    "\n",
    "**Data Pipeline:**\n",
    "1. Acquire current ISS TLE data from Celestrak\n",
    "2. Calculate visible passes for user location\n",
    "3. Structure predictions in DataFrame format\n",
    "4. Log observations with metadata\n",
    "5. Merge predictions with observations\n",
    "6. Analyze patterns and generate visualizations\n",
    "7. Persist data for future sessions"
   ]
  },
  {
   "cell_type": "markdown",
   "id": "b7835aa4",
   "metadata": {},
   "source": [
    "## 1. Project Setup, Dependencies, and Data Acquisition\n",
    "\n",
    "This section establishes the foundation for our ISS tracking system by:\n",
    "- Installing required dependencies\n",
    "- Importing necessary libraries\n",
    "- Configuring the observing location\n",
    "- Acquiring current ISS orbital data\n",
    "- Setting up data structures for predictions and observations\n",
    "\n",
    "Let's begin by ensuring all required packages are available and properly imported."
   ]
  },
  {
   "cell_type": "markdown",
   "id": "c7d1bf89",
   "metadata": {},
   "source": [
    "### 1.1 Dependency Installation\n",
    "\n",
    "**⚠️ IMPORTANT: Run this cell first before running any import cells!**\n",
    "\n",
    "Before we can start predicting ISS passes, we need to install the required Python libraries. Each library serves a specific purpose in our project:\n",
    "\n",
    "- **pandas**: Core data manipulation and analysis tool. We'll use this to store predictions in DataFrames, filter passes, and perform groupby operations.\n",
    "- **numpy**: Numerical computing foundation that pandas is built upon.\n",
    "- **matplotlib**: Visualization library for creating charts and plots of pass frequencies.\n",
    "- **skyfield**: Specialized library for satellite orbit calculations and predicting when satellites are visible.\n",
    "- **astropy**: Astronomical coordinate transformations for identifying constellations and working with celestial coordinates.\n",
    "- **requests**: HTTP library for downloading TLE data from Celestrak website.\n",
    "\n",
    "**Important Notes:**\n",
    "- Run the installation cell below before proceeding to imports\n",
    "- The installation may take 1-2 minutes depending on your internet connection\n",
    "- Skyfield will automatically download ephemeris data (~10MB) on first use - this is normal\n",
    "- If you get import errors, make sure you've run the installation cell and restarted the kernel"
   ]
  },
  {
   "cell_type": "code",
   "execution_count": 3,
   "id": "6b90393a",
   "metadata": {},
   "outputs": [
    {
     "name": "stdout",
     "output_type": "stream",
     "text": [
      "Requirement already satisfied: pandas in /opt/anaconda3/envs/astron_1221/lib/python3.11/site-packages (2.3.3)\n",
      "Requirement already satisfied: numpy in /opt/anaconda3/envs/astron_1221/lib/python3.11/site-packages (2.3.3)\n",
      "Requirement already satisfied: matplotlib in /opt/anaconda3/envs/astron_1221/lib/python3.11/site-packages (3.10.6)\n",
      "Requirement already satisfied: skyfield in /opt/anaconda3/envs/astron_1221/lib/python3.11/site-packages (1.53)\n",
      "Requirement already satisfied: astropy in /opt/anaconda3/envs/astron_1221/lib/python3.11/site-packages (7.1.1)\n",
      "Requirement already satisfied: requests in /opt/anaconda3/envs/astron_1221/lib/python3.11/site-packages (2.32.5)\n",
      "Requirement already satisfied: python-dateutil>=2.8.2 in /opt/anaconda3/envs/astron_1221/lib/python3.11/site-packages (from pandas) (2.9.0.post0)\n",
      "Requirement already satisfied: pytz>=2020.1 in /opt/anaconda3/envs/astron_1221/lib/python3.11/site-packages (from pandas) (2025.2)\n",
      "Requirement already satisfied: tzdata>=2022.7 in /opt/anaconda3/envs/astron_1221/lib/python3.11/site-packages (from pandas) (2025.2)\n",
      "Requirement already satisfied: contourpy>=1.0.1 in /opt/anaconda3/envs/astron_1221/lib/python3.11/site-packages (from matplotlib) (1.3.3)\n",
      "Requirement already satisfied: cycler>=0.10 in /opt/anaconda3/envs/astron_1221/lib/python3.11/site-packages (from matplotlib) (0.12.1)\n",
      "Requirement already satisfied: fonttools>=4.22.0 in /opt/anaconda3/envs/astron_1221/lib/python3.11/site-packages (from matplotlib) (4.60.0)\n",
      "Requirement already satisfied: kiwisolver>=1.3.1 in /opt/anaconda3/envs/astron_1221/lib/python3.11/site-packages (from matplotlib) (1.4.9)\n",
      "Requirement already satisfied: packaging>=20.0 in /opt/anaconda3/envs/astron_1221/lib/python3.11/site-packages (from matplotlib) (25.0)\n",
      "Requirement already satisfied: pillow>=8 in /opt/anaconda3/envs/astron_1221/lib/python3.11/site-packages (from matplotlib) (11.3.0)\n",
      "Requirement already satisfied: pyparsing>=2.3.1 in /opt/anaconda3/envs/astron_1221/lib/python3.11/site-packages (from matplotlib) (3.2.5)\n",
      "Requirement already satisfied: certifi>=2017.4.17 in /opt/anaconda3/envs/astron_1221/lib/python3.11/site-packages (from skyfield) (2025.8.3)\n",
      "Requirement already satisfied: jplephem>=2.13 in /opt/anaconda3/envs/astron_1221/lib/python3.11/site-packages (from skyfield) (2.23)\n",
      "Requirement already satisfied: sgp4>=2.13 in /opt/anaconda3/envs/astron_1221/lib/python3.11/site-packages (from skyfield) (2.25)\n",
      "Requirement already satisfied: pyerfa>=2.0.1.1 in /opt/anaconda3/envs/astron_1221/lib/python3.11/site-packages (from astropy) (2.0.1.5)\n",
      "Requirement already satisfied: astropy-iers-data>=0.2025.9.29.0.35.48 in /opt/anaconda3/envs/astron_1221/lib/python3.11/site-packages (from astropy) (0.2025.10.27.0.39.10)\n",
      "Requirement already satisfied: PyYAML>=6.0.0 in /opt/anaconda3/envs/astron_1221/lib/python3.11/site-packages (from astropy) (6.0.3)\n",
      "Requirement already satisfied: charset_normalizer<4,>=2 in /opt/anaconda3/envs/astron_1221/lib/python3.11/site-packages (from requests) (3.4.4)\n",
      "Requirement already satisfied: idna<4,>=2.5 in /opt/anaconda3/envs/astron_1221/lib/python3.11/site-packages (from requests) (3.10)\n",
      "Requirement already satisfied: urllib3<3,>=1.21.1 in /opt/anaconda3/envs/astron_1221/lib/python3.11/site-packages (from requests) (2.5.0)\n",
      "Requirement already satisfied: six>=1.5 in /opt/anaconda3/envs/astron_1221/lib/python3.11/site-packages (from python-dateutil>=2.8.2->pandas) (1.17.0)\n",
      "Note: you may need to restart the kernel to use updated packages.\n"
     ]
    }
   ],
   "source": [
    "# Install all required packages\n",
    "# Run this cell FIRST before any import statements!\n",
    "# This command downloads and installs the libraries if they're not already present\n",
    "%pip install pandas numpy matplotlib skyfield astropy requests"
   ]
  },
  {
   "cell_type": "markdown",
   "id": "54069cf8",
   "metadata": {},
   "source": [
    "### 1.2 Library Imports\n",
    "\n",
    "**⚠️ Make sure you've run the installation cell above (Cell 3) before running this cell!**\n",
    "\n",
    "Now that we have installed the packages, we need to import them into our notebook. Importing brings the library functions and classes into our current namespace so we can use them.\n",
    "\n",
    "**If you get a `ModuleNotFoundError`:**\n",
    "1. Go back and run Cell 3 (the installation cell)\n",
    "2. Wait for installation to complete\n",
    "3. Restart the kernel (Kernel → Restart)\n",
    "4. Run Cell 3 again, then run this cell\n",
    "\n",
    "**What we're importing:**\n",
    "- Standard data science libraries (pandas, numpy, matplotlib)\n",
    "- Date/time utilities for handling timestamps\n",
    "- Skyfield classes for satellite tracking\n",
    "- Astropy classes for astronomical coordinates\n"
   ]
  },
  {
   "cell_type": "code",
   "execution_count": 4,
   "id": "291dd1cb",
   "metadata": {},
   "outputs": [
    {
     "name": "stdout",
     "output_type": "stream",
     "text": [
      "✓ All libraries imported successfully!\n"
     ]
    }
   ],
   "source": [
    "# Import all necessary libraries\n",
    "\n",
    "# Standard Python libraries for data manipulation and web requests\n",
    "import pandas as pd              # Primary tool for DataFrames and data analysis\n",
    "import numpy as np               # Numerical computing (pandas dependency)\n",
    "import requests                  # For downloading TLE data from Celestrak\n",
    "import matplotlib.pyplot as plt  # For creating visualizations\n",
    "from datetime import datetime, timedelta  # For handling dates and times\n",
    "import warnings                  # To suppress non-critical warnings\n",
    "warnings.filterwarnings('ignore')\n",
    "\n",
    "# Skyfield imports - for satellite orbit calculations\n",
    "from skyfield.api import load, EarthSatellite, Topos\n",
    "# load: downloads ephemeris data\n",
    "# EarthSatellite: represents a satellite with TLE data\n",
    "# Topos: represents an observer location on Earth\n",
    "\n",
    "# Astropy imports - for astronomical coordinate transformations\n",
    "from astropy.coordinates import SkyCoord, EarthLocation, AltAz, get_constellation\n",
    "from astropy import units as u   # Physical units (degrees, meters, etc.)\n",
    "from astropy.time import Time    # Time handling for astronomical calculations\n",
    "\n",
    "print(\"All libraries imported successfully!\")\n"
   ]
  },
  {
   "cell_type": "markdown",
   "id": "b0d7e262",
   "metadata": {},
   "source": [
    "### 1.3 Define Observing Location\n",
    "\n",
    "To predict when the ISS will be visible, we need to know our location on Earth. The ISS pass predictions depend on where we're observing from - different locations see the ISS at different times.\n",
    "\n",
    "For this project, we'll use **Columbus, Ohio** as our default location. You can easily change the coordinates below to your own location.\n",
    "\n",
    "**What we need:**\n",
    "- **Latitude**: Distance north or south of equator (positive = north, negative = south)\n",
    "- **Longitude**: Distance east or west of prime meridian (positive = east, negative = west)  \n",
    "- **Elevation**: Height above sea level in meters (affects horizon calculations)\n",
    "\n",
    "**Why this matters**: The ISS orbits at ~400km altitude, but passes appear different depending on our location. A pass visible from Ohio might not be visible from California!"
   ]
  },
  {
   "cell_type": "code",
   "execution_count": null,
   "id": "092dcb7d",
   "metadata": {},
   "outputs": [
    {
     "name": "stdout",
     "output_type": "stream",
     "text": [
      "Observing Location Configuration:\n",
      "  Latitude: 39.9612° N\n",
      "  Longitude: 82.9988° W\n",
      "  Elevation: 275 m above sea level\n",
      "\n",
      "✓ Observer location object created\n"
     ]
    }
   ],
   "source": [
    "# Step 1: Define geographic coordinates\n",
    "# Columbus, Ohio coordinates\n",
    "latitude = 39.9612    # North latitude in degrees (positive = north of equator)\n",
    "longitude = -82.9988  # West longitude in degrees (negative = western hemisphere)\n",
    "elevation = 275       # Elevation above sea level in meters\n",
    "\n",
    "print(\"Observing Location Configuration:\")\n",
    "print(f\"  Latitude: {latitude}° N\")\n",
    "print(f\"  Longitude: {abs(longitude)}° W\")  # Display as positive for clarity\n",
    "print(f\"  Elevation: {elevation} m above sea level\")\n",
    "print()\n",
    "\n",
    "# Step 2: Create Skyfield observer object\n",
    "# Topos() creates a location object that Skyfield uses for calculations\n",
    "observer = Topos(latitude, longitude, elevation_m=elevation)\n",
    "print(\"Observer location object created\")"
   ]
  },
  {
   "cell_type": "markdown",
   "id": "cd19504d",
   "metadata": {},
   "source": [
    "### 1.4 Load Skyfield Timescale and Ephemeris Data\n",
    "\n",
    "Skyfield needs two types of data files to make accurate predictions:\n",
    "\n",
    "1. **Timescale**: A system for handling dates and times in astronomical calculations. It accounts for things like leap seconds and different time systems (UTC, etc.)\n",
    "\n",
    "2. **Ephemeris Data**: A table of precise positions for celestial bodies (Earth, Sun, Moon, planets). This allows Skyfield to calculate exactly where satellites will appear in the sky.\n",
    "\n",
    "**Note**: On first run, Skyfield will automatically download the ephemeris file (~10MB). This only happens once - subsequent runs use the cached file.\n"
   ]
  },
  {
   "cell_type": "code",
   "execution_count": null,
   "id": "b13a2f4b",
   "metadata": {},
   "outputs": [
    {
     "name": "stdout",
     "output_type": "stream",
     "text": [
      "Loading Skyfield timescale...\n",
      "✓ Timescale loaded successfully\n",
      "\n",
      "Loading ephemeris data (this may download ~10MB on first run)...\n"
     ]
    },
    {
     "name": "stderr",
     "output_type": "stream",
     "text": [
      "[#################################] 100% de421.bsp\n"
     ]
    },
    {
     "name": "stdout",
     "output_type": "stream",
     "text": [
      "✓ Ephemeris data loaded successfully\n",
      "\n",
      "==================================================\n",
      "Location and astronomical data setup complete!\n",
      "==================================================\n"
     ]
    }
   ],
   "source": [
    "# Step 1: Load Skyfield timescale\n",
    "# The timescale object handles time conversions for astronomical calculations\n",
    "print(\"Loading Skyfield timescale...\")\n",
    "ts = load.timescale()\n",
    "print(\"✓ Timescale loaded successfully\")\n",
    "print()\n",
    "\n",
    "# Step 2: Load ephemeris data\n",
    "# This downloads JPL DE421 ephemeris (~10MB) on first run\n",
    "# The ephemeris contains precise positions of Earth, Sun, Moon, and planets\n",
    "print(\"Loading ephemeris data (this may download ~10MB on first run)...\")\n",
    "eph = load('de421.bsp')\n",
    "print(\"Ephemeris data loaded successfully\")\n",
    "\n",
    "print(\"\\n\" + \"=\"*50)\n",
    "print(\"Location and astronomical data setup complete!\")\n",
    "print(\"=\"*50)\n"
   ]
  },
  {
   "cell_type": "markdown",
   "id": "24807de1",
   "metadata": {},
   "source": [
    "### 1.5 Acquire TLE Data for the ISS\n",
    "\n",
    "**What is TLE Data?**\n",
    "\n",
    "TLE (Two-Line Element) data is a standardized format that contains all the information needed to predict a satellite's position. Think of it as a \"snapshot\" of the satellite's orbit at a specific moment in time.\n",
    "\n",
    "**Key facts about TLE data:**\n",
    "- **Format**: Three lines - satellite name, then two lines of orbital parameters\n",
    "- **Updated regularly**: ISS TLE data is updated daily because orbits decay slightly over time\n",
    "- **Contains**: Orbital inclination, altitude, speed, and other parameters\n",
    "- **ISS NORAD ID**: 25544 (a unique identifier assigned by the North American Aerospace Defense Command)\n",
    "\n",
    "**Why we need it**: Without current TLE data, our predictions would be inaccurate. The ISS orbit changes slightly each day due to atmospheric drag, so we need fresh data from Celestrak (a trusted source for satellite tracking data)."
   ]
  },
  {
   "cell_type": "code",
   "execution_count": null,
   "id": "ba71e7f0",
   "metadata": {},
   "outputs": [
    {
     "name": "stdout",
     "output_type": "stream",
     "text": [
      "Downloading ISS TLE data from Celestrak...\n",
      "Source: https://celestrak.org/NORAD/elements/stations.txt\n",
      "\n",
      "Downloaded 72 lines of TLE data\n",
      "\n",
      "✓ ISS TLE data found and downloaded successfully\n",
      "  Satellite name: ISS (ZARYA)\n",
      "  TLE line 1: 1 25544U 98067A   25304.16626396  .00017194  00000+0  31236-3 0  9992...\n",
      "  TLE line 2: 2 25544  51.6343 353.2496 0004910 359.9780   0.1208 15.49645314536255...\n",
      "\n",
      "✓ ISS satellite object created - ready for calculations!\n",
      "\n",
      "==================================================\n",
      "TLE data acquisition complete!\n",
      "==================================================\n"
     ]
    }
   ],
   "source": [
    "# Step 1: Set up the URL for downloading TLE data\n",
    "# Celestrak provides free, regularly-updated TLE data for all satellites\n",
    "tle_url = \"https://celestrak.org/NORAD/elements/stations.txt\"\n",
    "print(\"Downloading ISS TLE data from Celestrak...\")\n",
    "print(f\"Source: {tle_url}\")\n",
    "print()\n",
    "\n",
    "# Step 2: Download the TLE data file\n",
    "try:\n",
    "    # Make HTTP request to download the file\n",
    "    response = requests.get(tle_url)\n",
    "    # Check if download was successful (status code 200 = success)\n",
    "    response.raise_for_status()\n",
    "    \n",
    "    # Step 3: Parse the downloaded text\n",
    "    # TLE files are plain text with each satellite's data on 3 lines\n",
    "    tle_lines = response.text.strip().split('\\n')\n",
    "    print(f\"Downloaded {len(tle_lines)} lines of TLE data\")\n",
    "    \n",
    "    # Step 4: Find ISS data in the file\n",
    "    # We search for lines containing \"ISS\" or the NORAD ID \"25544\"\n",
    "    iss_tle = None\n",
    "    for i, line in enumerate(tle_lines):\n",
    "        if 'ISS' in line or '25544' in line:\n",
    "            # ISS TLE format: name (line i), TLE line 1 (line i+1), TLE line 2 (line i+2)\n",
    "            if i + 2 < len(tle_lines):\n",
    "                iss_tle = tle_lines[i:i+3]\n",
    "                break\n",
    "    \n",
    "    # Step 5: Process the ISS TLE data\n",
    "    if iss_tle:\n",
    "        print(\"\\n✓ ISS TLE data found and downloaded successfully\")\n",
    "        print(f\"  Satellite name: {iss_tle[0].strip()}\")\n",
    "        print(f\"  TLE line 1: {iss_tle[1].strip()[:70]}...\")  # Show first part\n",
    "        print(f\"  TLE line 2: {iss_tle[2].strip()[:70]}...\")\n",
    "        \n",
    "        # Create a Skyfield EarthSatellite object from the TLE data\n",
    "        # This object will be used for all our pass calculations\n",
    "        satellite = EarthSatellite(iss_tle[1], iss_tle[2], iss_tle[0], ts)\n",
    "        print(\"\\nISS satellite object created - ready for calculations!\")\n",
    "        \n",
    "    else:\n",
    "        # If ISS not found, something went wrong\n",
    "        print(\"\\n✗ Error: ISS TLE data not found in downloaded file\")\n",
    "        raise ValueError(\"ISS data not found\")\n",
    "        \n",
    "except (requests.exceptions.RequestException, ValueError) as e:\n",
    "    # Step 6: Handle errors gracefully with fallback data\n",
    "    print(f\"\\n✗ Error downloading/parsing TLE data: {e}\")\n",
    "    print(\"Using fallback TLE data (may be outdated, but allows testing)...\")\n",
    "    \n",
    "    # Fallback TLE data structure (placeholder values)\n",
    "    # In real use, this allows the notebook to run even if network fails\n",
    "    fallback_tle = [\n",
    "        \"ISS (ZARYA)\",\n",
    "        \"1 25544U 98067A   24123.12345678  .00001234  00000-0  12345-4 0  9999\",\n",
    "        \"2 25544  51.6400 123.4567 0001234 123.4567 234.5678 15.12345678901234\"\n",
    "    ]\n",
    "    \n",
    "    satellite = EarthSatellite(fallback_tle[1], fallback_tle[2], fallback_tle[0], ts)\n",
    "    print(\"Fallback satellite object created (for testing purposes)\")\n",
    "\n",
    "print(\"\\n\" + \"=\"*50)\n",
    "print(\"TLE data acquisition complete!\")\n",
    "print(\"=\"*50)"
   ]
  },
  {
   "cell_type": "markdown",
   "id": "00d27a7c",
   "metadata": {},
   "source": [
    "## 2. Core Prediction Pipeline and Data Wrangling\n",
    "\n",
    "This section implements the Skyfield pass calculation and structures the output into a Pandas DataFrame. We'll:\n",
    "\n",
    "1. Calculate all visible ISS passes for the next 7 days\n",
    "2. Extract key information: rise time, max altitude, duration, brightness\n",
    "3. Store everything in a DataFrame for easy analysis\n",
    "4. Filter passes by altitude threshold (passes above 30° are easiest to see)\n",
    "\n",
    "**Key Concepts:**\n",
    "- A \"pass\" is when the ISS rises above the horizon, reaches maximum altitude, and sets\n",
    "- We'll calculate passes where the ISS reaches at least 10° altitude (visible above the horizon)\n",
    "- Duration is how long the pass lasts from rise to set\n",
    "- Max altitude tells us how high the ISS appears in the sky"
   ]
  },
  {
   "cell_type": "markdown",
   "id": "50973fa2",
   "metadata": {},
   "source": [
    "### 2.1 Function to Calculate Visible Passes\n",
    "\n",
    "This is the core function that predicts when the ISS will be visible. It uses Skyfield's `find_events()` method to detect when the satellite rises above the horizon, reaches its highest point, and sets below the horizon.\n",
    "\n",
    "**How it works:**\n",
    "1. Skyfield calculates the ISS position at many time points\n",
    "2. It detects when altitude crosses our minimum threshold (e.g., 10°)\n",
    "3. For each complete pass, it records:\n",
    "   - **Rise time**: When ISS first appears above horizon\n",
    "   - **Max altitude time**: When ISS reaches highest point\n",
    "   - **Set time**: When ISS disappears below horizon\n",
    "   - **Max altitude**: How high in degrees (0° = horizon, 90° = overhead)\n",
    "   - **Duration**: Total time from rise to set in minutes\n",
    "   - **Brightness**: Apparent magnitude (lower number = brighter star)\n",
    "\n",
    "**What we extract for each pass:**\n",
    "- Rise time → when to start watching\n",
    "- Max altitude → how high ISS will appear (higher = easier to see)\n",
    "- Duration → how long we have to observe\n",
    "- Brightness → how bright it will appear (depends on distance and solar angle)\n",
    "\n",
    "The function returns a list of dictionaries, where each dictionary contains information about one pass."
   ]
  },
  {
   "cell_type": "code",
   "execution_count": 8,
   "id": "813123d5",
   "metadata": {},
   "outputs": [
    {
     "name": "stdout",
     "output_type": "stream",
     "text": [
      "Calculating passes starting from: 2025-10-31 19:03:34.228681+00:00\n",
      "Looking ahead: 7 days\n",
      "==================================================\n",
      "Found 42 visible passes in the next 7 days!\n",
      "==================================================\n"
     ]
    }
   ],
   "source": [
    "def calculate_visible_passes(satellite, observer_location, start_time, days=7, min_altitude=10.0):\n",
    "    \"\"\"\n",
    "    Calculate all visible ISS passes for a specified time period.\n",
    "    \n",
    "    This function uses Skyfield to find when the ISS rises above the horizon,\n",
    "    reaches its highest point (culmination), and sets below the horizon. For\n",
    "    each complete pass, it extracts key information like timing, altitude, and brightness.\n",
    "    \n",
    "    Parameters:\n",
    "    -----------\n",
    "    satellite : skyfield.api.EarthSatellite\n",
    "        The ISS satellite object created from TLE data\n",
    "    observer_location : skyfield.toposlib.Topos\n",
    "        The observer's location on Earth (created from latitude/longitude)\n",
    "    start_time : skyfield.timelib.Time\n",
    "        When to start searching for passes (usually current time)\n",
    "    days : float, optional\n",
    "        How many days ahead to calculate passes (default: 7)\n",
    "    min_altitude : float, optional\n",
    "        Minimum altitude in degrees above horizon to consider (default: 10.0)\n",
    "        Passes below this won't be included (helps filter out very low passes)\n",
    "    \n",
    "    Returns:\n",
    "    --------\n",
    "    list of dict\n",
    "        Each dictionary contains:\n",
    "        - 'rise_time': datetime when ISS appears above horizon\n",
    "        - 'max_alt_time': datetime when ISS reaches highest point\n",
    "        - 'set_time': datetime when ISS disappears below horizon\n",
    "        - 'max_altitude': float, highest altitude in degrees (0-90)\n",
    "        - 'duration_minutes': float, total pass duration\n",
    "        - 'brightness': float, apparent magnitude (lower = brighter)\n",
    "    \n",
    "    Example:\n",
    "    --------\n",
    "    >>> passes = calculate_visible_passes(satellite, observer, ts.now(), days=7)\n",
    "    >>> print(f\"Found {len(passes)} passes\")\n",
    "    \"\"\"\n",
    "    \n",
    "    # Step 1: Calculate the end time for our search window\n",
    "    end_time = start_time + days\n",
    "    \n",
    "    # Step 2: Use Skyfield to find all rise/culminate/set events\n",
    "    # find_events() returns:\n",
    "    #   - t: array of times when events occur\n",
    "    #   - events: array of event types (0=rise, 1=culminate, 2=set)\n",
    "    # Events are only recorded when altitude crosses min_altitude threshold\n",
    "    t, events = satellite.find_events(observer_location, start_time, end_time, altitude_degrees=min_altitude)\n",
    "    \n",
    "    # Step 3: Initialize list to store pass information\n",
    "    passes = []\n",
    "    \n",
    "    # Step 4: Loop through events and group them into complete passes\n",
    "    # Each complete pass has 3 events in order: rise (0), culminate (1), set (2)\n",
    "    i = 0\n",
    "    while i < len(events):\n",
    "        # Check if we have a complete pass sequence (rise -> culminate -> set)\n",
    "        if i + 2 < len(events) and events[i] == 0 and events[i+1] == 1 and events[i+2] == 2:\n",
    "            \n",
    "            # Extract the three key times for this pass\n",
    "            rise_time = t[i]        # When ISS first appears\n",
    "            max_alt_time = t[i+1]    # When ISS is highest\n",
    "            set_time = t[i+2]       # When ISS disappears\n",
    "            \n",
    "            # Step 5: Calculate pass duration\n",
    "            # Skyfield times are in days, so convert to minutes\n",
    "            duration_minutes = (set_time - rise_time) * 24 * 60\n",
    "            \n",
    "            # Step 6: Calculate maximum altitude (how high ISS appears)\n",
    "            # We need the satellite's position relative to our location\n",
    "            difference = satellite - observer_location  # Relative position vector\n",
    "            topocentric = difference.at(max_alt_time)    # Position at culmination time\n",
    "            alt, az, distance = topocentric.altaz()     # Get altitude, azimuth, distance\n",
    "            max_altitude = alt.degrees                   # Convert to degrees\n",
    "            \n",
    "            # Step 7: Estimate brightness (apparent magnitude)\n",
    "            # Brightness depends on: distance to ISS, solar phase angle, ISS size\n",
    "            # This is a simplified approximation - real calculations are more complex\n",
    "            # ISS magnitude typically ranges from -2 (very bright) to +3 (dim)\n",
    "            distance_km = distance.km\n",
    "            brightness = 0.0 - (400 / distance_km)  # Closer ISS = brighter (lower number)\n",
    "            \n",
    "            # Step 8: Store all information about this pass in a dictionary\n",
    "            pass_info = {\n",
    "                'rise_time': rise_time.utc_datetime(),      # Convert to Python datetime\n",
    "                'max_alt_time': max_alt_time.utc_datetime(),\n",
    "                'set_time': set_time.utc_datetime(),\n",
    "                'max_altitude': round(max_altitude, 2),     # Round to 2 decimal places\n",
    "                'duration_minutes': round(duration_minutes, 1),  # Round to 1 decimal\n",
    "                'brightness': round(brightness, 2)         # Round to 2 decimal places\n",
    "            }\n",
    "            \n",
    "            passes.append(pass_info)\n",
    "            i += 3  # Move to next potential pass (skip the 3 events we just processed)\n",
    "        else:\n",
    "            i += 1  # Skip incomplete events (if rise/culminate/set don't match)\n",
    "    \n",
    "    return passes\n",
    "\n",
    "# Set up time period: next 7 days from now\n",
    "now = ts.now()\n",
    "print(f\"Calculating passes starting from: {now.utc_datetime()}\")\n",
    "print(f\"Looking ahead: 7 days\")\n",
    "print(\"=\"*50)\n",
    "\n",
    "# Calculate all visible passes\n",
    "all_passes = calculate_visible_passes(satellite, observer, now, days=7)\n",
    "\n",
    "print(f\"Found {len(all_passes)} visible passes in the next 7 days!\")\n",
    "print(\"=\"*50)\n"
   ]
  },
  {
   "cell_type": "markdown",
   "id": "db3ec0aa",
   "metadata": {},
   "source": [
    "Now let's call our function to calculate all visible passes for the next 7 days. We'll start from the current time and look ahead 7 days.\n"
   ]
  },
  {
   "cell_type": "markdown",
   "id": "eabf2f6f",
   "metadata": {},
   "source": [
    "### 2.2 Store Predictions in DataFrame\n",
    "\n",
    "Now we'll convert our list of passes into a Pandas DataFrame. This makes it easy to:\n",
    "- View all passes in a table\n",
    "- Filter passes by altitude\n",
    "- Analyze patterns\n",
    "- Save to CSV for later use\n",
    "\n",
    "We'll create a DataFrame with all the pass information, then filter for passes above 30° altitude (easiest to see).\n"
   ]
  },
  {
   "cell_type": "code",
   "execution_count": 9,
   "id": "9341b01a",
   "metadata": {},
   "outputs": [
    {
     "name": "stdout",
     "output_type": "stream",
     "text": [
      "Pass Predictions DataFrame:\n",
      "Total passes found: 42\n",
      "\n",
      "First few passes:\n",
      "                         rise_time                     max_alt_time  \\\n",
      "0 2025-11-01 03:21:54.374539+00:00 2025-11-01 03:23:28.194187+00:00   \n",
      "1 2025-11-01 04:56:31.125321+00:00 2025-11-01 04:59:50.166486+00:00   \n",
      "2 2025-11-01 06:34:54.443733+00:00 2025-11-01 06:37:06.348067+00:00   \n",
      "3 2025-11-01 08:13:44.427059+00:00 2025-11-01 08:14:58.320281+00:00   \n",
      "4 2025-11-01 09:49:57.000536+00:00 2025-11-01 09:52:41.920422+00:00   \n",
      "\n",
      "                          set_time  max_altitude  duration_minutes  brightness  \n",
      "0 2025-11-01 03:25:02.578869+00:00         12.78               3.1       -0.30  \n",
      "1 2025-11-01 05:03:10.627237+00:00         67.26               6.7       -0.89  \n",
      "2 2025-11-01 06:39:18.711783+00:00         16.16               4.4       -0.34  \n",
      "3 2025-11-01 08:16:12.132916+00:00         11.51               2.5       -0.28  \n",
      "4 2025-11-01 09:55:26.712004+00:00         22.63               5.5       -0.42  \n",
      "\n",
      "==================================================\n",
      "DataFrame Info:\n",
      "<class 'pandas.core.frame.DataFrame'>\n",
      "RangeIndex: 42 entries, 0 to 41\n",
      "Data columns (total 6 columns):\n",
      " #   Column            Non-Null Count  Dtype              \n",
      "---  ------            --------------  -----              \n",
      " 0   rise_time         42 non-null     datetime64[ns, UTC]\n",
      " 1   max_alt_time      42 non-null     datetime64[ns, UTC]\n",
      " 2   set_time          42 non-null     datetime64[ns, UTC]\n",
      " 3   max_altitude      42 non-null     float64            \n",
      " 4   duration_minutes  42 non-null     float64            \n",
      " 5   brightness        42 non-null     float64            \n",
      "dtypes: datetime64[ns, UTC](3), float64(3)\n",
      "memory usage: 2.1 KB\n",
      "None\n",
      "==================================================\n"
     ]
    }
   ],
   "source": [
    "# Convert list of passes to a DataFrame\n",
    "predictions_df = pd.DataFrame(all_passes)\n",
    "\n",
    "# Display basic info about our DataFrame\n",
    "print(\"Pass Predictions DataFrame:\")\n",
    "print(f\"Total passes found: {len(predictions_df)}\")\n",
    "print(\"\\nFirst few passes:\")\n",
    "print(predictions_df.head())\n",
    "\n",
    "print(\"\\n\" + \"=\"*50)\n",
    "print(\"DataFrame Info:\")\n",
    "print(predictions_df.info())\n",
    "print(\"=\"*50)\n"
   ]
  },
  {
   "cell_type": "markdown",
   "id": "a460e18d",
   "metadata": {},
   "source": [
    "### 2.3 Filter Passes by Altitude Threshold\n",
    "\n",
    "Passes above 30° altitude are easiest to see because they're high in the sky and above most obstructions. We'll filter our DataFrame to show only these \"good\" passes."
   ]
  },
  {
   "cell_type": "code",
   "execution_count": 10,
   "id": "efa01f58",
   "metadata": {},
   "outputs": [
    {
     "name": "stdout",
     "output_type": "stream",
     "text": [
      "Filtering passes above 30.0° altitude...\n",
      "Total passes: 42\n",
      "Good passes (above 30.0°): 15\n",
      "\n",
      "Best viewing opportunities:\n",
      "                          rise_time  max_altitude  duration_minutes  \\\n",
      "1  2025-11-01 04:56:31.125321+00:00         67.26               6.7   \n",
      "5  2025-11-01 11:26:21.825928+00:00         56.49               6.6   \n",
      "6  2025-11-02 04:08:26.791338+00:00         68.85               6.6   \n",
      "10 2025-11-02 10:38:13.637168+00:00         80.55               6.7   \n",
      "12 2025-11-03 03:20:35.961606+00:00         36.99               6.2   \n",
      "16 2025-11-03 09:50:09.729455+00:00         46.96               6.5   \n",
      "19 2025-11-04 04:09:03.093012+00:00         41.86               6.4   \n",
      "22 2025-11-04 09:02:08.016620+00:00         30.51               6.1   \n",
      "23 2025-11-04 10:38:52.260173+00:00         32.61               6.1   \n",
      "25 2025-11-05 03:20:41.142427+00:00         70.87               6.7   \n",
      "\n",
      "    brightness  \n",
      "1        -0.89  \n",
      "5        -0.80  \n",
      "6        -0.90  \n",
      "10       -0.94  \n",
      "12       -0.61  \n",
      "16       -0.71  \n",
      "19       -0.66  \n",
      "22       -0.52  \n",
      "23       -0.55  \n",
      "25       -0.91  \n",
      "\n",
      "==================================================\n",
      "Filtering complete!\n",
      "==================================================\n"
     ]
    }
   ],
   "source": [
    "# Filter passes by altitude threshold (30 degrees = easiest to see)\n",
    "altitude_threshold = 30.0\n",
    "\n",
    "# Use Pandas to filter: only keep passes where max_altitude >= threshold\n",
    "good_passes_df = predictions_df[predictions_df['max_altitude'] >= altitude_threshold]\n",
    "\n",
    "print(f\"Filtering passes above {altitude_threshold}° altitude...\")\n",
    "print(f\"Total passes: {len(predictions_df)}\")\n",
    "print(f\"Good passes (above {altitude_threshold}°): {len(good_passes_df)}\")\n",
    "print(\"\\nBest viewing opportunities:\")\n",
    "print(good_passes_df[['rise_time', 'max_altitude', 'duration_minutes', 'brightness']].head(10))\n",
    "\n",
    "print(\"\\n\" + \"=\"*50)\n",
    "print(\"Filtering complete!\")\n",
    "print(\"=\"*50)"
   ]
  },
  {
   "cell_type": "markdown",
   "id": "31c3a720",
   "metadata": {},
   "source": [
    "**Observation Log and Merge**\n",
    "\n",
    "We define the structure of the observation log (observations.csv), create a dummy dataset, and merge it with the predictions."
   ]
  },
  {
   "cell_type": "code",
   "execution_count": null,
   "id": "43c54817",
   "metadata": {},
   "outputs": [],
   "source": []
  },
  {
   "cell_type": "markdown",
   "id": "59a1effc",
   "metadata": {},
   "source": [
    "**Analysis, Visualization, and Conclusion**\n",
    "--\n",
    "This section fulfills the analysis, visualization, and persistence requirements.\n",
    "\n",
    "---"
   ]
  },
  {
   "cell_type": "markdown",
   "id": "29149d20",
   "metadata": {},
   "source": [
    "**Analysis: Pass Frequency per Day**\n",
    "\n",
    "We analyze the frequency of passes over the next 7 days, which is a key requirement."
   ]
  },
  {
   "cell_type": "code",
   "execution_count": null,
   "id": "a4e717fa",
   "metadata": {},
   "outputs": [],
   "source": []
  },
  {
   "cell_type": "markdown",
   "id": "f2454374",
   "metadata": {},
   "source": [
    "**Visualization: Pass Frequencies (Bar Chart)**\n",
    "\n",
    "A bar chart visualizing the number of passes per day."
   ]
  },
  {
   "cell_type": "code",
   "execution_count": null,
   "id": "33d6008c",
   "metadata": {},
   "outputs": [],
   "source": []
  },
  {
   "cell_type": "markdown",
   "id": "aea62bed",
   "metadata": {},
   "source": [
    "**Visualization: Observation Success Rate**\n",
    "\n",
    "A pie chart showing the success rate of the recorded observations."
   ]
  },
  {
   "cell_type": "code",
   "execution_count": null,
   "id": "d488e145",
   "metadata": {},
   "outputs": [],
   "source": []
  },
  {
   "cell_type": "markdown",
   "id": "6138a36b",
   "metadata": {},
   "source": [
    "**Persistence: Save Predictions and Full Data**\n",
    "\n",
    "Save the full dataset to a new CSV file to meet the persistence requirement."
   ]
  },
  {
   "cell_type": "code",
   "execution_count": null,
   "id": "222f16de",
   "metadata": {},
   "outputs": [],
   "source": []
  },
  {
   "cell_type": "markdown",
   "id": "1150df88",
   "metadata": {},
   "source": [
    "**Conclusion and Individual Contribution**\n",
    "--\n",
    "\n",
    "---"
   ]
  },
  {
   "cell_type": "markdown",
   "id": "64038436",
   "metadata": {},
   "source": [
    "**Discussion and Interpretation**"
   ]
  },
  {
   "cell_type": "markdown",
   "id": "f7b7784b",
   "metadata": {},
   "source": [
    "**Individual Contribution Statement**"
   ]
  }
 ],
 "metadata": {
  "kernelspec": {
   "display_name": "astron_1221",
   "language": "python",
   "name": "python3"
  },
  "language_info": {
   "codemirror_mode": {
    "name": "ipython",
    "version": 3
   },
   "file_extension": ".py",
   "mimetype": "text/x-python",
   "name": "python",
   "nbconvert_exporter": "python",
   "pygments_lexer": "ipython3",
   "version": "3.11.13"
  }
 },
 "nbformat": 4,
 "nbformat_minor": 5
}
